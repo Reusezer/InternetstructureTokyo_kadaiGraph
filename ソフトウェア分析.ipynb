{
 "cells": [
  {
   "cell_type": "code",
   "execution_count": null,
   "id": "e1b90ec3",
   "metadata": {},
   "outputs": [
    {
     "name": "stdout",
     "output_type": "stream",
     "text": [
      "Defaulting to user installation because normal site-packages is not writeable\n",
      "Collecting pandas\n",
      "  Downloading pandas-2.2.3-cp310-cp310-macosx_11_0_arm64.whl (11.3 MB)\n",
      "\u001b[K     |████████████████████████████████| 11.3 MB 9.6 MB/s eta 0:00:01\n",
      "\u001b[?25hCollecting matplotlib\n",
      "  Downloading matplotlib-3.10.1-cp310-cp310-macosx_11_0_arm64.whl (8.0 MB)\n",
      "\u001b[K     |████████████████████████████████| 8.0 MB 16.3 MB/s eta 0:00:01\n",
      "\u001b[?25hCollecting numpy>=1.22.4\n",
      "  Downloading numpy-2.2.5-cp310-cp310-macosx_14_0_arm64.whl (5.4 MB)\n",
      "\u001b[K     |████████████████████████████████| 5.4 MB 29.2 MB/s eta 0:00:01\n",
      "\u001b[?25hRequirement already satisfied: python-dateutil>=2.8.2 in /Users/ripito/Library/Python/3.10/lib/python/site-packages (from pandas) (2.9.0.post0)\n",
      "Collecting tzdata>=2022.7\n",
      "  Downloading tzdata-2025.2-py2.py3-none-any.whl (347 kB)\n",
      "\u001b[K     |████████████████████████████████| 347 kB 21.2 MB/s eta 0:00:01\n",
      "\u001b[?25hCollecting pytz>=2020.1\n",
      "  Downloading pytz-2025.2-py2.py3-none-any.whl (509 kB)\n",
      "\u001b[K     |████████████████████████████████| 509 kB 60.1 MB/s eta 0:00:01\n",
      "\u001b[?25hCollecting pyparsing>=2.3.1\n",
      "  Downloading pyparsing-3.2.3-py3-none-any.whl (111 kB)\n",
      "\u001b[K     |████████████████████████████████| 111 kB 36.1 MB/s eta 0:00:01\n",
      "\u001b[?25hCollecting contourpy>=1.0.1\n",
      "  Downloading contourpy-1.3.2-cp310-cp310-macosx_11_0_arm64.whl (253 kB)\n",
      "\u001b[K     |████████████████████████████████| 253 kB 34.7 MB/s eta 0:00:01\n",
      "\u001b[?25hCollecting fonttools>=4.22.0\n",
      "  Downloading fonttools-4.57.0-cp310-cp310-macosx_10_9_universal2.whl (2.8 MB)\n",
      "\u001b[K     |████████████████████████████████| 2.8 MB 18.8 MB/s eta 0:00:01\n",
      "\u001b[?25hRequirement already satisfied: packaging>=20.0 in /Users/ripito/Library/Python/3.10/lib/python/site-packages (from matplotlib) (25.0)\n",
      "Collecting cycler>=0.10\n",
      "  Downloading cycler-0.12.1-py3-none-any.whl (8.3 kB)\n",
      "Collecting pillow>=8\n",
      "  Downloading pillow-11.2.1-cp310-cp310-macosx_11_0_arm64.whl (3.0 MB)\n",
      "\u001b[K     |████████████████████████████████| 3.0 MB 41.8 MB/s eta 0:00:01\n",
      "\u001b[?25hCollecting kiwisolver>=1.3.1\n",
      "  Downloading kiwisolver-1.4.8-cp310-cp310-macosx_11_0_arm64.whl (65 kB)\n",
      "\u001b[K     |████████████████████████████████| 65 kB 22.4 MB/s eta 0:00:011\n",
      "\u001b[?25hRequirement already satisfied: six>=1.5 in /Users/ripito/Library/Python/3.10/lib/python/site-packages (from python-dateutil>=2.8.2->pandas) (1.17.0)\n",
      "Installing collected packages: numpy, tzdata, pytz, pyparsing, pillow, kiwisolver, fonttools, cycler, contourpy, pandas, matplotlib\n"
     ]
    }
   ],
   "source": [
    "pip install pandas matplotlib\n"
   ]
  },
  {
   "cell_type": "code",
   "execution_count": null,
   "id": "2577eb70",
   "metadata": {},
   "outputs": [
    {
     "name": "stdout",
     "output_type": "stream",
     "text": [
      "zsh:1: command not found: pip\n"
     ]
    },
    {
     "ename": "ModuleNotFoundError",
     "evalue": "No module named 'pandas'",
     "output_type": "error",
     "traceback": [
      "\u001b[0;31m---------------------------------------------------------------------------\u001b[0m",
      "\u001b[0;31mModuleNotFoundError\u001b[0m                       Traceback (most recent call last)",
      "Cell \u001b[0;32mIn[6], line 3\u001b[0m\n\u001b[1;32m      1\u001b[0m get_ipython()\u001b[38;5;241m.\u001b[39msystem(\u001b[38;5;124m'\u001b[39m\u001b[38;5;124mpip install pandas\u001b[39m\u001b[38;5;124m'\u001b[39m)\n\u001b[0;32m----> 3\u001b[0m \u001b[38;5;28;01mimport\u001b[39;00m\u001b[38;5;250m \u001b[39m\u001b[38;5;21;01mpandas\u001b[39;00m\u001b[38;5;250m \u001b[39m\u001b[38;5;28;01mas\u001b[39;00m\u001b[38;5;250m \u001b[39m\u001b[38;5;21;01mpd\u001b[39;00m\n\u001b[1;32m      5\u001b[0m file_path \u001b[38;5;241m=\u001b[39m \u001b[38;5;124m'\u001b[39m\u001b[38;5;124m../setagayasfcjitaku.csv\u001b[39m\u001b[38;5;124m'\u001b[39m\n\u001b[1;32m      6\u001b[0m df \u001b[38;5;241m=\u001b[39m pd\u001b[38;5;241m.\u001b[39mread_csv(file_path)\n",
      "\u001b[0;31mModuleNotFoundError\u001b[0m: No module named 'pandas'"
     ]
    }
   ],
   "source": [
    "\n",
    "import pandas as pd\n",
    "\n",
    "file_path = '../setagayasfcjitaku.csv'\n",
    "df = pd.read_csv(file_path)\n",
    "\n",
    "# Display the first few rows to understand its structure\n",
    "df.head()\n"
   ]
  },
  {
   "cell_type": "code",
   "execution_count": null,
   "id": "b5d6f2c9",
   "metadata": {},
   "outputs": [],
   "source": [
    "# Plot with value labels on each bar\n",
    "import numpy as np\n",
    "\n",
    "# Prepare data for bar chart\n",
    "summary_df = df_clean[['AS', 'SFC_SUM', 'jitaku_SUM', 'setagaya_SUM']].dropna()\n",
    "summary_df.set_index('AS', inplace=True)\n",
    "\n",
    "# Transpose for plotting\n",
    "summary_df = summary_df.transpose()\n",
    "\n",
    "# Plot\n",
    "plt.figure(figsize=(14, 7))\n",
    "x = np.arange(len(summary_df.columns))\n",
    "bar_width = 0.25\n",
    "\n",
    "for i, location in enumerate(summary_df.index):\n",
    "    plt.bar(x + i * bar_width, summary_df.loc[location], width=bar_width, label=location)\n",
    "    # Add value labels\n",
    "    for j, val in enumerate(summary_df.loc[location]):\n",
    "        plt.text(x[j] + i * bar_width, val + 0.3, str(int(val)), ha='center', va='bottom', fontsize=8)\n",
    "\n",
    "plt.xticks(x + bar_width, summary_df.columns, rotation=45)\n",
    "plt.title('AS Rule Distribution per Location')\n",
    "plt.xlabel('AS (Wi-Fi Rule)')\n",
    "plt.ylabel('Rule Count')\n",
    "plt.legend()\n",
    "plt.tight_layout()\n",
    "plt.grid(True, axis='y')\n",
    "plt.show()\n"
   ]
  },
  {
   "cell_type": "code",
   "execution_count": null,
   "id": "fa3b92dd",
   "metadata": {},
   "outputs": [],
   "source": [
    "import matplotlib.pyplot as plt\n",
    "\n",
    "# Clean up and extract relevant data\n",
    "df_clean = df.iloc[1:].copy()\n",
    "df_clean.columns = ['AS', 'SFC_1', 'SFC_2', 'SFC_3', 'SFC_4', 'SFC_5', 'SFC_SUM',\n",
    "                    'jitaku_1', 'jitaku_2', 'jitaku_3', 'jitaku_4', 'jitaku_5', 'jitaku_SUM',\n",
    "                    'setagaya_1', 'setagaya_2', 'setagaya_3', 'setagaya_4', 'setagaya_5', 'setagaya_SUM']\n",
    "\n",
    "# Convert numeric columns to float\n",
    "numeric_cols = df_clean.columns[1:]\n",
    "df_clean[numeric_cols] = df_clean[numeric_cols].apply(pd.to_numeric, errors='coerce')\n",
    "\n",
    "# Create a melted DataFrame for distribution plot\n",
    "df_melted = df_clean.melt(id_vars='AS', value_vars=['SFC_SUM', 'jitaku_SUM', 'setagaya_SUM'],\n",
    "                          var_name='Location', value_name='Count')\n",
    "\n",
    "# Drop NaNs\n",
    "df_melted.dropna(inplace=True)\n",
    "\n",
    "# Plot\n",
    "plt.figure(figsize=(12, 6))\n",
    "for location in df_melted['Location'].unique():\n",
    "    subset = df_melted[df_melted['Location'] == location]\n",
    "    plt.hist(subset['Count'], bins=10, alpha=0.5, label=location)\n",
    "\n",
    "plt.title('AS Rule Distribution per Location (SFC, Jitaku, Setagaya)')\n",
    "plt.xlabel('Rule Count')\n",
    "plt.ylabel('Number of AS Entries')\n",
    "plt.legend()\n",
    "plt.grid(True)\n",
    "plt.tight_layout()\n",
    "plt.show()\n"
   ]
  },
  {
   "cell_type": "code",
   "execution_count": null,
   "id": "ade43878",
   "metadata": {},
   "outputs": [
    {
     "ename": "NameError",
     "evalue": "name 'summary_df' is not defined",
     "output_type": "error",
     "traceback": [
      "\u001b[0;31m---------------------------------------------------------------------------\u001b[0m",
      "\u001b[0;31mNameError\u001b[0m                                 Traceback (most recent call last)",
      "Cell \u001b[0;32mIn[2], line 2\u001b[0m\n\u001b[1;32m      1\u001b[0m \u001b[38;5;66;03m# Sort AS by total rule count (sum across SFC, jitaku, setagaya)\u001b[39;00m\n\u001b[0;32m----> 2\u001b[0m summary_df_sorted \u001b[38;5;241m=\u001b[39m \u001b[43msummary_df\u001b[49m\u001b[38;5;241m.\u001b[39mloc[:, summary_df\u001b[38;5;241m.\u001b[39msum(axis\u001b[38;5;241m=\u001b[39m\u001b[38;5;241m0\u001b[39m)\u001b[38;5;241m.\u001b[39msort_values(ascending\u001b[38;5;241m=\u001b[39m\u001b[38;5;28;01mFalse\u001b[39;00m)\u001b[38;5;241m.\u001b[39mindex]\n\u001b[1;32m      4\u001b[0m \u001b[38;5;66;03m# Plot again with sorted AS order\u001b[39;00m\n\u001b[1;32m      5\u001b[0m plt\u001b[38;5;241m.\u001b[39mfigure(figsize\u001b[38;5;241m=\u001b[39m(\u001b[38;5;241m14\u001b[39m, \u001b[38;5;241m7\u001b[39m))\n",
      "\u001b[0;31mNameError\u001b[0m: name 'summary_df' is not defined"
     ]
    }
   ],
   "source": [
    "# Sort AS by total rule count (sum across SFC, jitaku, setagaya)\n",
    "summary_df_sorted = summary_df.loc[:, summary_df.sum(axis=0).sort_values(ascending=False).index]\n",
    "\n",
    "# Plot again with sorted AS order\n",
    "plt.figure(figsize=(14, 7))\n",
    "x = np.arange(len(summary_df_sorted.columns))\n",
    "bar_width = 0.25\n",
    "\n",
    "for i, location in enumerate(summary_df_sorted.index):\n",
    "    plt.bar(x + i * bar_width, summary_df_sorted.loc[location], width=bar_width, label=location)\n",
    "    for j, val in enumerate(summary_df_sorted.loc[location]):\n",
    "        plt.text(x[j] + i * bar_width, val + 0.3, str(int(val)), ha='center', va='bottom', fontsize=8)\n",
    "\n",
    "plt.xticks(x + bar_width, summary_df_sorted.columns, rotation=45)\n",
    "plt.title('AS Rule Distribution per Location (Sorted by Total Count)')\n",
    "plt.xlabel('AS (Wi-Fi Rule)')\n",
    "plt.ylabel('Rule Count')\n",
    "plt.legend()\n",
    "plt.tight_layout()\n",
    "plt.grid(True, axis='y')\n",
    "plt.show()\n"
   ]
  },
  {
   "cell_type": "code",
   "execution_count": null,
   "id": "ea59a776",
   "metadata": {},
   "outputs": [],
   "source": [
    "import plotly.express as px\n",
    "\n",
    "# Prepare data for Sunburst chart\n",
    "sunburst_data = []\n",
    "\n",
    "for idx, row in df_clean.iterrows():\n",
    "    as_name = row['AS']\n",
    "    for location in ['SFC_SUM', 'jitaku_SUM', 'setagaya_SUM']:\n",
    "        count = row[location]\n",
    "        if pd.notna(count) and count > 0:\n",
    "            sunburst_data.append({\n",
    "                'AS': as_name,\n",
    "                'Location': location.replace('_SUM', ''),\n",
    "                'Count': count\n",
    "            })\n",
    "\n",
    "sunburst_df = pd.DataFrame(sunburst_data)\n",
    "\n",
    "# Create sunburst chart\n",
    "fig = px.sunburst(\n",
    "    sunburst_df,\n",
    "    path=['Location', 'AS'],\n",
    "    values='Count',\n",
    "    title='AS Rule Distribution by Location (Sunburst View)',\n",
    "    color='Location'\n",
    ")\n",
    "\n",
    "fig.update_layout(margin=dict(t=40, l=0, r=0, b=0))\n",
    "fig.show()\n"
   ]
  },
  {
   "cell_type": "code",
   "execution_count": null,
   "id": "d21cf7d0",
   "metadata": {},
   "outputs": [],
   "source": [
    "# Prepare data again for static sunburst-like chart\n",
    "sunburst_data = df_clean[['AS', 'SFC_SUM', 'jitaku_SUM', 'setagaya_SUM']].copy()\n",
    "sunburst_data = sunburst_data.melt(id_vars='AS', var_name='Location', value_name='Count')\n",
    "sunburst_data.dropna(inplace=True)\n",
    "\n",
    "# Aggregate total counts per (Location, AS)\n",
    "grouped_data = sunburst_data.groupby(['Location', 'AS']).sum().reset_index()\n",
    "\n",
    "# Create a pie chart for each Location\n",
    "locations = grouped_data['Location'].unique()\n",
    "\n",
    "# Plot\n",
    "fig, axs = plt.subplots(1, len(locations), figsize=(18, 6))\n",
    "\n",
    "for i, loc in enumerate(locations):\n",
    "    subset = grouped_data[grouped_data['Location'] == loc]\n",
    "    axs[i].pie(subset['Count'], labels=subset['AS'], autopct='%1.1f%%', startangle=90)\n",
    "    axs[i].axis('equal')\n",
    "    axs[i].set_title(f'{loc} AS Distribution')\n",
    "\n",
    "plt.suptitle('AS Rule Distribution per Location (Pie Charts)')\n",
    "plt.tight_layout()\n",
    "plt.show()\n"
   ]
  }
 ],
 "metadata": {
  "kernelspec": {
   "display_name": "Python 3",
   "language": "python",
   "name": "python3"
  },
  "language_info": {
   "codemirror_mode": {
    "name": "ipython",
    "version": 3
   },
   "file_extension": ".py",
   "mimetype": "text/x-python",
   "name": "python",
   "nbconvert_exporter": "python",
   "pygments_lexer": "ipython3",
   "version": "3.10.2"
  }
 },
 "nbformat": 4,
 "nbformat_minor": 5
}
